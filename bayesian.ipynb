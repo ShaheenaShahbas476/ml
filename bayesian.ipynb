{
 "cells": [
  {
   "cell_type": "code",
   "execution_count": 1,
   "metadata": {
    "id": "T6yD8Ijh9Phs"
   },
   "outputs": [],
   "source": [
    "import pandas as pd\n",
    "from pgmpy.models import DiscreteBayesianNetwork as BayesianModel\n",
    "from pgmpy.estimators import MaximumLikelihoodEstimator, BayesianEstimator\n",
    "from sklearn.model_selection import train_test_split\n",
    "from sklearn.metrics import accuracy_score, precision_score, recall_score, f1_score\n",
    "from sklearn.preprocessing import LabelEncoder\n",
    "from pgmpy.inference import VariableElimination\n"
   ]
  },
  {
   "cell_type": "code",
   "execution_count": 5,
   "metadata": {
    "colab": {
     "base_uri": "https://localhost:8080/"
    },
    "id": "rJDdkunN9ZO2",
    "outputId": "d339d803-a938-45cf-ea58-c5d51dce28cb"
   },
   "outputs": [
    {
     "name": "stderr",
     "output_type": "stream",
     "text": [
      "INFO:pgmpy: Datatype (N=numerical, C=Categorical Unordered, O=Categorical Ordered) inferred from data: \n",
      " {'age': 'N', 'sex': 'N', 'cp': 'N', 'trestbps': 'N', 'chol': 'N', 'fbs': 'N', 'restecg': 'N', 'thalach': 'N', 'exang': 'N', 'oldpeak': 'N', 'slope': 'N', 'ca': 'N', 'thal': 'N', 'target': 'N'}\n",
      "INFO:pgmpy: Datatype (N=numerical, C=Categorical Unordered, O=Categorical Ordered) inferred from data: \n",
      " {'age': 'N', 'sex': 'N', 'cp': 'N', 'trestbps': 'N', 'chol': 'N', 'fbs': 'N', 'restecg': 'N', 'thalach': 'N', 'exang': 'N', 'oldpeak': 'N', 'slope': 'N', 'ca': 'N', 'thal': 'N', 'target': 'N'}\n",
      "WARNING:pgmpy:Replacing existing CPD for age\n",
      "WARNING:pgmpy:Replacing existing CPD for trestbps\n",
      "WARNING:pgmpy:Replacing existing CPD for fbs\n",
      "WARNING:pgmpy:Replacing existing CPD for sex\n",
      "WARNING:pgmpy:Replacing existing CPD for exang\n",
      "WARNING:pgmpy:Replacing existing CPD for target\n"
     ]
    },
    {
     "name": "stdout",
     "output_type": "stream",
     "text": [
      "   age  sex  cp  trestbps  chol  fbs  restecg  thalach  exang  oldpeak  slope  \\\n",
      "0   52    1   0       125   212    0        1      168      0      1.0      2   \n",
      "1   53    1   0       140   203    1        0      155      1      3.1      0   \n",
      "2   70    1   0       145   174    0        1      125      1      2.6      0   \n",
      "3   61    1   0       148   203    0        1      161      0      0.0      2   \n",
      "4   62    0   0       138   294    1        1      106      0      1.9      1   \n",
      "\n",
      "   ca  thal  target  \n",
      "0   2     3       0  \n",
      "1   0     3       0  \n",
      "2   0     3       0  \n",
      "3   1     3       0  \n",
      "4   3     2       0  \n"
     ]
    },
    {
     "data": {
      "text/plain": [
       "<pgmpy.models.DiscreteBayesianNetwork.DiscreteBayesianNetwork at 0x1a07819ae40>"
      ]
     },
     "execution_count": 5,
     "metadata": {},
     "output_type": "execute_result"
    }
   ],
   "source": [
    "df = pd.read_csv('heart.csv')\n",
    "print(df.head())\n",
    "\n",
    "le = LabelEncoder()\n",
    "for column in df.columns:\n",
    "  if df[column].dtype == 'object':\n",
    "    df[column] = le.fit_transform(df[column])\n",
    "\n",
    "model = BayesianModel([('age', 'trestbps'), ('age', 'fbs'), ('sex', 'trestbps'), ('exang', 'trestbps'), ('trestbps', 'target')])\n",
    "model.fit(df, estimator=MaximumLikelihoodEstimator)\n",
    "\n",
    "model.fit(df, estimator = MaximumLikelihoodEstimator)"
   ]
  },
  {
   "cell_type": "code",
   "execution_count": 7,
   "metadata": {},
   "outputs": [
    {
     "name": "stdout",
     "output_type": "stream",
     "text": [
      "Prediction for {'age': 76, 'sex': 1, 'trestbps': 170, 'fbs': 1, 'exang': 1}:\n",
      "+-----------+---------------+\n",
      "| target    |   phi(target) |\n",
      "+===========+===============+\n",
      "| target(0) |        0.7333 |\n",
      "+-----------+---------------+\n",
      "| target(1) |        0.2667 |\n",
      "+-----------+---------------+\n",
      "\n",
      "\n",
      "Prediction for {'age': 54, 'sex': 0, 'trestbps': 130, 'fbs': 0, 'exang': 0}:\n",
      "+-----------+---------------+\n",
      "| target    |   phi(target) |\n",
      "+===========+===============+\n",
      "| target(0) |        0.3902 |\n",
      "+-----------+---------------+\n",
      "| target(1) |        0.6098 |\n",
      "+-----------+---------------+\n",
      "\n",
      "\n",
      "Prediction for {'age': 63, 'sex': 1, 'trestbps': 145, 'fbs': 1, 'exang': 1}:\n",
      "+-----------+---------------+\n",
      "| target    |   phi(target) |\n",
      "+===========+===============+\n",
      "| target(0) |        0.8235 |\n",
      "+-----------+---------------+\n",
      "| target(1) |        0.1765 |\n",
      "+-----------+---------------+\n",
      "\n",
      "\n",
      "Prediction for {'age': 45, 'sex': 0, 'trestbps': 120, 'fbs': 0, 'exang': 0}:\n",
      "+-----------+---------------+\n",
      "| target    |   phi(target) |\n",
      "+===========+===============+\n",
      "| target(0) |        0.4219 |\n",
      "+-----------+---------------+\n",
      "| target(1) |        0.5781 |\n",
      "+-----------+---------------+\n",
      "\n",
      "\n",
      "Prediction for {'age': 58, 'sex': 1, 'trestbps': 150, 'fbs': 1, 'exang': 0}:\n",
      "+-----------+---------------+\n",
      "| target    |   phi(target) |\n",
      "+===========+===============+\n",
      "| target(0) |        0.4909 |\n",
      "+-----------+---------------+\n",
      "| target(1) |        0.5091 |\n",
      "+-----------+---------------+\n",
      "\n",
      "\n",
      "Prediction for {'age': 67, 'sex': 0, 'trestbps': 180, 'fbs': 1, 'exang': 1}:\n",
      "+-----------+---------------+\n",
      "| target    |   phi(target) |\n",
      "+===========+===============+\n",
      "| target(0) |        0.7000 |\n",
      "+-----------+---------------+\n",
      "| target(1) |        0.3000 |\n",
      "+-----------+---------------+\n",
      "\n",
      "\n",
      "Prediction for {'age': 39, 'sex': 1, 'trestbps': 110, 'fbs': 0, 'exang': 0}:\n",
      "+-----------+---------------+\n",
      "| target    |   phi(target) |\n",
      "+===========+===============+\n",
      "| target(0) |        0.6094 |\n",
      "+-----------+---------------+\n",
      "| target(1) |        0.3906 |\n",
      "+-----------+---------------+\n",
      "\n",
      "\n",
      "Prediction for {'age': 70, 'sex': 1, 'trestbps': 160, 'fbs': 1, 'exang': 1}:\n",
      "+-----------+---------------+\n",
      "| target    |   phi(target) |\n",
      "+===========+===============+\n",
      "| target(0) |        0.5556 |\n",
      "+-----------+---------------+\n",
      "| target(1) |        0.4444 |\n",
      "+-----------+---------------+\n",
      "\n",
      "\n",
      "Prediction for {'age': 50, 'sex': 0, 'trestbps': 140, 'fbs': 0, 'exang': 0}:\n",
      "+-----------+---------------+\n",
      "| target    |   phi(target) |\n",
      "+===========+===============+\n",
      "| target(0) |        0.5140 |\n",
      "+-----------+---------------+\n",
      "| target(1) |        0.4860 |\n",
      "+-----------+---------------+\n",
      "\n",
      "\n",
      "Prediction for {'age': 60, 'sex': 1, 'trestbps': 135, 'fbs': 1, 'exang': 0}:\n",
      "+-----------+---------------+\n",
      "| target    |   phi(target) |\n",
      "+===========+===============+\n",
      "| target(0) |        0.2000 |\n",
      "+-----------+---------------+\n",
      "| target(1) |        0.8000 |\n",
      "+-----------+---------------+\n",
      "\n",
      "\n"
     ]
    }
   ],
   "source": [
    "test_cases = [\n",
    "    {'age': 76, 'sex': 1, 'trestbps': 170, 'fbs': 1, 'exang': 1},  # Very high BP, old age, high blood sugar, angina\n",
    "    {'age': 54, 'sex': 0, 'trestbps': 130, 'fbs': 0, 'exang': 0},  # Normal case, female, good vitals\n",
    "    {'age': 63, 'sex': 1, 'trestbps': 145, 'fbs': 1, 'exang': 1},  # Older male, high sugar, angina\n",
    "    {'age': 45, 'sex': 0, 'trestbps': 120, 'fbs': 0, 'exang': 0},  # Healthy young female\n",
    "    {'age': 58, 'sex': 1, 'trestbps': 150, 'fbs': 1, 'exang': 0},  # Prehypertension + high sugar\n",
    "    {'age': 67, 'sex': 0, 'trestbps': 180, 'fbs': 1, 'exang': 1},  # Elderly female with multiple risk factors\n",
    "    {'age': 39, 'sex': 1, 'trestbps': 110, 'fbs': 0, 'exang': 0},  # Young healthy male\n",
    "    {'age': 70, 'sex': 1, 'trestbps': 160, 'fbs': 1, 'exang': 1},  # High BP and high sugar + exercise angina\n",
    "    {'age': 50, 'sex': 0, 'trestbps': 140, 'fbs': 0, 'exang': 0},  # Moderate BP, normal sugar\n",
    "    {'age': 60, 'sex': 1, 'trestbps': 135, 'fbs': 1, 'exang': 0}   # Older male, high sugar, no angina\n",
    "]\n",
    "\n",
    "\n",
    "infer = VariableElimination(model)\n",
    "for case in test_cases:\n",
    "    result = infer.query(variables=['target'], evidence=case)\n",
    "    print(f\"Prediction for {case}:\")\n",
    "    print(result)\n",
    "    print(\"\\n\")\n"
   ]
  },
  {
   "cell_type": "code",
   "execution_count": null,
   "metadata": {},
   "outputs": [],
   "source": []
  }
 ],
 "metadata": {
  "colab": {
   "provenance": []
  },
  "kernelspec": {
   "display_name": "Python 3 (ipykernel)",
   "language": "python",
   "name": "python3"
  },
  "language_info": {
   "codemirror_mode": {
    "name": "ipython",
    "version": 3
   },
   "file_extension": ".py",
   "mimetype": "text/x-python",
   "name": "python",
   "nbconvert_exporter": "python",
   "pygments_lexer": "ipython3",
   "version": "3.12.2"
  }
 },
 "nbformat": 4,
 "nbformat_minor": 4
}
