{
 "cells": [
  {
   "cell_type": "code",
   "execution_count": 3,
   "id": "9aae4865-d3c7-48f1-a7e8-c5db7dc34e8a",
   "metadata": {},
   "outputs": [
    {
     "name": "stdout",
     "output_type": "stream",
     "text": [
      "Initial hypothesis (from first positive example): ['Sunny', 'Warm', 'Normal', 'Strong', 'Warm', 'Same']\n",
      "\n",
      "Processing example 2: ['Sunny', 'Warm', 'High', 'Strong', 'Warm', 'Same']\n",
      "Hypothesis after example 2: ['Sunny', 'Warm', '?', 'Strong', 'Warm', 'Same']\n",
      "\n",
      "Processing example 3: ['Sunny', 'Warm', 'Normal', 'Strong', 'Cool', 'Change']\n",
      "Hypothesis after example 3: ['Sunny', 'Warm', '?', 'Strong', '?', '?']\n",
      "\n",
      "Final Hypothesis: ['Sunny', 'Warm', '?', 'Strong', '?', '?']\n"
     ]
    }
   ],
   "source": [
    "import pandas as pd\n",
    "\n",
    "# Load dataset\n",
    "data = pd.read_csv('play_tennis.csv')\n",
    "\n",
    "# Filter only positive examples\n",
    "positive_data = data[data['PlayTennis'].str.lower() == 'yes']\n",
    "\n",
    "# Initialize hypothesis with the first positive example\n",
    "hypothesis = positive_data.iloc[0, :-1].tolist()\n",
    "print(f\"Initial hypothesis (from first positive example): {hypothesis}\")\n",
    "\n",
    "# Generalize the hypothesis step by step\n",
    "for i in range(1, len(positive_data)):\n",
    "    print(f\"\\nProcessing example {i+1}: {positive_data.iloc[i, :-1].tolist()}\")\n",
    "    for j in range(len(hypothesis)):\n",
    "        if hypothesis[j] != positive_data.iloc[i, j]:\n",
    "            hypothesis[j] = '?'\n",
    "    print(f\"Hypothesis after example {i+1}: {hypothesis}\")\n",
    "\n",
    "# Final hypothesis\n",
    "print(\"\\nFinal Hypothesis:\", hypothesis)\n"
   ]
  },
  {
   "cell_type": "code",
   "execution_count": null,
   "id": "ddfb02a7-d047-4ffa-82f6-284411b3e550",
   "metadata": {},
   "outputs": [],
   "source": []
  }
 ],
 "metadata": {
  "kernelspec": {
   "display_name": "Python 3 (ipykernel)",
   "language": "python",
   "name": "python3"
  },
  "language_info": {
   "codemirror_mode": {
    "name": "ipython",
    "version": 3
   },
   "file_extension": ".py",
   "mimetype": "text/x-python",
   "name": "python",
   "nbconvert_exporter": "python",
   "pygments_lexer": "ipython3",
   "version": "3.12.2"
  }
 },
 "nbformat": 4,
 "nbformat_minor": 5
}
