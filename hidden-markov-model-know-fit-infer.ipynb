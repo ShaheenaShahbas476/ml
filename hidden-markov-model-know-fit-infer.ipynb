{
 "cells": [
  {
   "cell_type": "markdown",
   "id": "f2a348d8",
   "metadata": {
    "id": "f2a348d8",
    "papermill": {
     "duration": 0.007415,
     "end_time": "2023-06-28T09:19:34.321747",
     "exception": false,
     "start_time": "2023-06-28T09:19:34.314332",
     "status": "completed"
    },
    "tags": []
   },
   "source": [
    "<div style=\"background-color:#5D73F2; color:#19180F; font-size:40px; font-family:Arial; padding:10px; border: 5px solid #19180F; border-radius:10px\"> Hidden Markov Models </div>\n",
    "<div style=\"background-color:#A8B4F6; color:#19180F; font-size:30px; font-family:Arial; padding:10px; border: 5px solid #19180F; border-radius:10px\"> Architecture Overview</div>\n",
    "<div style=\"background-color:#D5D9F2; color:#19180F; font-size:15px; font-family:Arial; padding:10px; border: 5px solid #19180F; border-radius:10px\">\n",
    "Basically, an HMM is a statistical model designed to capture the underlying hidden states of a system based on observable outcomes. This is especially useful when working with sequential data, where the order of observations matters. Imagine you have a scenario where you observe a sequence of events, but you cannot directly observe the underlying condition that produced those events. For example, consider the weather. You can observe different weather patterns (eg sunny, cloudy, rainy) but you cannot directly understand the hidden factors that cause these weather changes (eg high or low pressure systems, wind patterns).<br><br>\n",
    "In an HMM, you assume an underlying sequence of hidden states that generate the observed events. Each hidden state corresponds to a specific state or situation. In the weather example, hidden states can represent weather patterns such as sunny, cloudy, or rainy.<br><br>\n",
    "HMM assumes that the hidden states form a Markov process, which means that the transition probability from one state to another depends only on the current state and not on the past history. This is called the Markov property and it simplifies the modeling process.<br><br>\n",
    "Furthermore, HMM assumes that each hidden state emits observable events with some probability. These bootstrap probabilities represent the probability of observing a particular outcome given the hidden state. In the weather example, emission probabilities could represent the probability of observing certain weather conditions given each weather model. By modeling the transition probabilities between hidden states and the triggering probabilities of observable events, the HMM can learn to obtain the most likely sequence of hidden states given the observed events. It is useful for tasks like speech recognition, gesture recognition, tagging parts of words, etc.<br><br>\n",
    "<b>Mathematics</b>\n",
    "1. Hidden States:<br><br>\n",
    "We denote the set of hidden states as S = {S1, S2, ..., SN}, where N is the total number of hidden states.<br>\n",
    "The set of hidden states is represented by the equation S = S1, S2,..., SN, where N represents the number of unanswered questions.<br>\n",
    "We use the formula S = S1, ‘S2,..., SN to represent [N] in terms of hidden states.<br>\n",
    "To represent the set of hidden states, we use the equation S = S1, S2,..., SN, where N is the count of all possible hidden state.<br>\n",
    "For the set of hidden states, we write S = S1, S2,..., N where N is the number of all the hidden state.<br>\n",
    "For the set of hidden states, we write S = S1, S2,..., N where N is the number of all the hidden state.<br><br>\n",
    "2. Observations:<br><br>\n",
    "We denote the set of observable events as O = {O1, O2, ..., OM}, where M is the total number of possible observations. <br><br>\n",
    "3. Transition Probabilities:<br><br>\n",
    "The transition probability controls how large the transition is from one hidden state to another. These probabilities are usually represented by a transition matrix A, where A(i, j) denotes the transition probability from the hidden state Si to the hidden state Sj.<br><br>\n",
    "4. Emission Probabilities:<br><br>\n",
    "The trigger probability determines the probability that a particular outcome will be observed given the hidden state. These probabilities are usually represented by the emission matrix B, where B(i, j) denotes the emission probability of the observation Oj in the hidden state Si.<br><br>\n",
    "5. Initial State Probabilities:<br><br>\n",
    "The initial state probabilities represent the onset probability of each hidden state. These probabilities are usually represented by the vector π, where π(i) denotes the probability of starting from the hidden state Si.<br><br>\n",
    "Using these components, we can mathematically define an HMM as a 5-corpus (S, O, A, B, π).\n",
    "Given a sequence of observed events, the HMM can use a Viterbi algorithm or a forward-backward algorithm to compute the most likely sequence of hidden states that produced those observations. The HMM framework provides an efficient way to model and analyze sequence data, allowing us to make predictions from observable outcomes and gain insight into underlying hidden states.\n",
    "</div>\n"
   ]
  },
  {
   "cell_type": "markdown",
   "id": "e748d867",
   "metadata": {
    "id": "e748d867",
    "papermill": {
     "duration": 0.006842,
     "end_time": "2023-06-28T09:19:34.388213",
     "exception": false,
     "start_time": "2023-06-28T09:19:34.381371",
     "status": "completed"
    },
    "tags": []
   },
   "source": [
    "<div style=\"background-color:#D5D9F2; color:#19180F; font-size:15px; font-family:Arial; padding:10px; border: 5px solid #19180F; border-radius:10px\">\n",
    "The block diagram represents the HMM architecture with the following components:<br>\n",
    "- The start state node (S) is represented by a yellow box labeled Start and is shaped like a point.\n",
    "Specifies the starting point of the HMM.\n",
    "- Hidden states (H1, H2, H3) are represented by blue fields labeled State 1, State 2 and State 3.\n",
    "They indicate the underlying state of the system, which cannot be directly observed. <br><br>\n",
    "- Observation nodes (O1, O2, O3) are represented by green fields labeled as Observation 1, Observation 2 and Observation 3.They represent the observable data or metrics associated with each hidden state. - Directed edges between nodes represent transition probabilities, which represent the probability of moving from one state to another.<br><br>\n",
    "Transition probabilities are in markers and indicated by purple arrows. - Directed edges from hidden states to observed nodes represent observation probabilities.<br><br>\n",
    "They indicate the probability of observing a given outcome given a given hidden state. Observational probabilities are marked in the margin and indicated by green arrows.<br><br></div>"
   ]
  },
  {
   "cell_type": "markdown",
   "id": "bf25a4b9",
   "metadata": {
    "id": "bf25a4b9",
    "papermill": {
     "duration": 0.007038,
     "end_time": "2023-06-28T09:19:34.402279",
     "exception": false,
     "start_time": "2023-06-28T09:19:34.395241",
     "status": "completed"
    },
    "tags": []
   },
   "source": [
    "<div style=\"background-color:#F0E3D2; color:#19180F; font-size:15px; font-family:Verdana; padding:10px; border: 2px solid #19180F; border-radius:10px\">\n",
    "📌 Installing hmmlearn </div>"
   ]
  },
  {
   "cell_type": "code",
   "execution_count": 3,
   "id": "733236db",
   "metadata": {
    "id": "733236db",
    "outputId": "a2b44749-f55e-4ec0-b28c-12d104eb0ad9",
    "papermill": {
     "duration": 14.336623,
     "end_time": "2023-06-28T09:19:48.746387",
     "exception": false,
     "start_time": "2023-06-28T09:19:34.409764",
     "status": "completed"
    },
    "tags": []
   },
   "outputs": [
    {
     "name": "stdout",
     "output_type": "stream",
     "text": [
      "Collecting hmmlearn\n",
      "  Downloading hmmlearn-0.3.3-cp312-cp312-win_amd64.whl.metadata (3.1 kB)\n",
      "Requirement already satisfied: numpy>=1.10 in c:\\users\\shahe\\appdata\\local\\programs\\python\\python312\\lib\\site-packages (from hmmlearn) (1.26.4)\n",
      "Requirement already satisfied: scikit-learn!=0.22.0,>=0.16 in c:\\users\\shahe\\appdata\\local\\programs\\python\\python312\\lib\\site-packages (from hmmlearn) (1.6.1)\n",
      "Requirement already satisfied: scipy>=0.19 in c:\\users\\shahe\\appdata\\local\\programs\\python\\python312\\lib\\site-packages (from hmmlearn) (1.15.3)\n",
      "Requirement already satisfied: joblib>=1.2.0 in c:\\users\\shahe\\appdata\\local\\programs\\python\\python312\\lib\\site-packages (from scikit-learn!=0.22.0,>=0.16->hmmlearn) (1.5.0)\n",
      "Requirement already satisfied: threadpoolctl>=3.1.0 in c:\\users\\shahe\\appdata\\local\\programs\\python\\python312\\lib\\site-packages (from scikit-learn!=0.22.0,>=0.16->hmmlearn) (3.6.0)\n",
      "Downloading hmmlearn-0.3.3-cp312-cp312-win_amd64.whl (127 kB)\n",
      "   ---------------------------------------- 0.0/127.3 kB ? eta -:--:--\n",
      "   --- ------------------------------------ 10.2/127.3 kB ? eta -:--:--\n",
      "   --------- ----------------------------- 30.7/127.3 kB 435.7 kB/s eta 0:00:01\n",
      "   --------- ----------------------------- 30.7/127.3 kB 435.7 kB/s eta 0:00:01\n",
      "   --------- ----------------------------- 30.7/127.3 kB 435.7 kB/s eta 0:00:01\n",
      "   ------------ -------------------------- 41.0/127.3 kB 151.3 kB/s eta 0:00:01\n",
      "   ------------------ -------------------- 61.4/127.3 kB 204.8 kB/s eta 0:00:01\n",
      "   ------------------------- ------------- 81.9/127.3 kB 255.1 kB/s eta 0:00:01\n",
      "   ---------------------------- ---------- 92.2/127.3 kB 249.8 kB/s eta 0:00:01\n",
      "   ---------------------------- ---------- 92.2/127.3 kB 249.8 kB/s eta 0:00:01\n",
      "   ---------------------------- ---------- 92.2/127.3 kB 249.8 kB/s eta 0:00:01\n",
      "   ------------------------------------ - 122.9/127.3 kB 240.2 kB/s eta 0:00:01\n",
      "   -------------------------------------- 127.3/127.3 kB 234.1 kB/s eta 0:00:00\n",
      "Installing collected packages: hmmlearn\n",
      "Successfully installed hmmlearn-0.3.3\n",
      "Note: you may need to restart the kernel to use updated packages.\n"
     ]
    },
    {
     "name": "stderr",
     "output_type": "stream",
     "text": [
      "\n",
      "[notice] A new release of pip is available: 24.0 -> 25.1.1\n",
      "[notice] To update, run: python.exe -m pip install --upgrade pip\n"
     ]
    }
   ],
   "source": [
    "%pip install hmmlearn"
   ]
  },
  {
   "cell_type": "markdown",
   "id": "f015122c",
   "metadata": {
    "id": "f015122c",
    "papermill": {
     "duration": 0.007315,
     "end_time": "2023-06-28T09:19:48.763004",
     "exception": false,
     "start_time": "2023-06-28T09:19:48.755689",
     "status": "completed"
    },
    "tags": []
   },
   "source": [
    "<div style=\"background-color:#F0E3D2; color:#19180F; font-size:15px; font-family:Verdana; padding:10px; border: 2px solid #19180F; border-radius:10px\">\n",
    "📌 Importing relevant modules </div>"
   ]
  },
  {
   "cell_type": "code",
   "execution_count": 4,
   "id": "8b1761c0",
   "metadata": {
    "id": "8b1761c0",
    "papermill": {
     "duration": 1.963319,
     "end_time": "2023-06-28T09:19:50.733980",
     "exception": false,
     "start_time": "2023-06-28T09:19:48.770661",
     "status": "completed"
    },
    "tags": []
   },
   "outputs": [],
   "source": [
    "import pandas as pd\n",
    "import numpy as np\n",
    "from hmmlearn import hmm"
   ]
  },
  {
   "cell_type": "markdown",
   "id": "5bc3aa00",
   "metadata": {
    "id": "5bc3aa00",
    "papermill": {
     "duration": 0.008047,
     "end_time": "2023-06-28T09:19:50.749950",
     "exception": false,
     "start_time": "2023-06-28T09:19:50.741903",
     "status": "completed"
    },
    "tags": []
   },
   "source": [
    "<div style=\"background-color:#F0E3D2; color:#19180F; font-size:15px; font-family:Verdana; padding:10px; border: 2px solid #19180F; border-radius:10px\">\n",
    "📌 Loading the dataframe </div>\n"
   ]
  },
  {
   "cell_type": "code",
   "execution_count": 5,
   "id": "a1a7d2a4",
   "metadata": {
    "id": "a1a7d2a4",
    "papermill": {
     "duration": 3.360393,
     "end_time": "2023-06-28T09:19:54.118040",
     "exception": false,
     "start_time": "2023-06-28T09:19:50.757647",
     "status": "completed"
    },
    "tags": []
   },
   "outputs": [],
   "source": [
    "sales_train = pd.read_csv('./sales_train.csv')"
   ]
  },
  {
   "cell_type": "markdown",
   "id": "522f97b5",
   "metadata": {
    "id": "522f97b5",
    "papermill": {
     "duration": 0.008009,
     "end_time": "2023-06-28T09:19:54.133879",
     "exception": false,
     "start_time": "2023-06-28T09:19:54.125870",
     "status": "completed"
    },
    "tags": []
   },
   "source": [
    "<div style=\"background-color:#F0E3D2; color:#19180F; font-size:15px; font-family:Verdana; padding:10px; border: 2px solid #19180F; border-radius:10px\">\n",
    "📌 Extracting the features </div>"
   ]
  },
  {
   "cell_type": "code",
   "execution_count": 6,
   "id": "5299f9fe",
   "metadata": {
    "id": "5299f9fe",
    "papermill": {
     "duration": 0.116118,
     "end_time": "2023-06-28T09:19:54.257626",
     "exception": false,
     "start_time": "2023-06-28T09:19:54.141508",
     "status": "completed"
    },
    "tags": []
   },
   "outputs": [],
   "source": [
    "sales_train= sales_train.drop(['date_block_num','item_cnt_day'],axis=1)"
   ]
  },
  {
   "cell_type": "code",
   "execution_count": 7,
   "id": "38d55df2",
   "metadata": {
    "id": "38d55df2",
    "papermill": {
     "duration": 0.035437,
     "end_time": "2023-06-28T09:19:54.300987",
     "exception": false,
     "start_time": "2023-06-28T09:19:54.265550",
     "status": "completed"
    },
    "tags": []
   },
   "outputs": [],
   "source": [
    "X_train = sales_train[['shop_id', 'item_id']].values\n"
   ]
  },
  {
   "cell_type": "markdown",
   "id": "43f350fd",
   "metadata": {
    "id": "43f350fd",
    "papermill": {
     "duration": 0.007319,
     "end_time": "2023-06-28T09:19:54.316006",
     "exception": false,
     "start_time": "2023-06-28T09:19:54.308687",
     "status": "completed"
    },
    "tags": []
   },
   "source": [
    "<div style=\"background-color:#F0E3D2; color:#19180F; font-size:15px; font-family:Verdana; padding:10px; border: 2px solid #19180F; border-radius:10px\">\n",
    "📌 Initializing and training the HMM </div>"
   ]
  },
  {
   "cell_type": "code",
   "execution_count": null,
   "id": "73601378",
   "metadata": {
    "id": "73601378",
    "outputId": "638f305f-a459-4a71-ca4e-e3380e3b20fc",
    "papermill": {
     "duration": 650.321021,
     "end_time": "2023-06-28T09:30:44.644616",
     "exception": false,
     "start_time": "2023-06-28T09:19:54.323595",
     "status": "completed"
    },
    "tags": []
   },
   "outputs": [],
   "source": [
    "n_hidden_states = 5  # Number of hidden states in the HMM\n",
    "model = hmm.MultinomialHMM(n_components=n_hidden_states, n_iter=10,verbose=True)\n",
    "model.fit(X_train)\n"
   ]
  },
  {
   "cell_type": "markdown",
   "id": "691434ac",
   "metadata": {
    "id": "691434ac",
    "papermill": {
     "duration": 0.016365,
     "end_time": "2023-06-28T09:30:44.677234",
     "exception": false,
     "start_time": "2023-06-28T09:30:44.660869",
     "status": "completed"
    },
    "tags": []
   },
   "source": [
    "<div style=\"background-color:#F0E3D2; color:#19180F; font-size:15px; font-family:Verdana; padding:10px; border: 2px solid #19180F; border-radius:10px\">\n",
    "📌 Each line represents the iteration number, the log likelihood value at that iteration, and the change in log likelihood compared to the previous iteration.</div>"
   ]
  },
  {
   "cell_type": "code",
   "execution_count": null,
   "id": "132afc1d",
   "metadata": {
    "id": "132afc1d",
    "papermill": {
     "duration": 0.184902,
     "end_time": "2023-06-28T09:30:44.878861",
     "exception": false,
     "start_time": "2023-06-28T09:30:44.693959",
     "status": "completed"
    },
    "tags": []
   },
   "outputs": [],
   "source": [
    "test_data = pd.read_csv('./test.csv')\n",
    "X_test = test_data[['shop_id', 'item_id']].values"
   ]
  },
  {
   "cell_type": "markdown",
   "id": "fe6fab81",
   "metadata": {
    "id": "fe6fab81",
    "papermill": {
     "duration": 0.01627,
     "end_time": "2023-06-28T09:30:44.911575",
     "exception": false,
     "start_time": "2023-06-28T09:30:44.895305",
     "status": "completed"
    },
    "tags": []
   },
   "source": [
    "<div style=\"background-color:#F0E3D2; color:#19180F; font-size:15px; font-family:Verdana; padding:10px; border: 2px solid #19180F; border-radius:10px\">\n",
    "📌 Predicting the sales for the test set </div>"
   ]
  },
  {
   "cell_type": "code",
   "execution_count": null,
   "id": "e9f34d51",
   "metadata": {
    "id": "e9f34d51",
    "papermill": {
     "duration": 0.151761,
     "end_time": "2023-06-28T09:30:45.079701",
     "exception": false,
     "start_time": "2023-06-28T09:30:44.927940",
     "status": "completed"
    },
    "tags": []
   },
   "outputs": [],
   "source": [
    "predicted_sales = model.predict(X_test)\n",
    "\n"
   ]
  },
  {
   "cell_type": "markdown",
   "id": "1df3736a",
   "metadata": {
    "id": "1df3736a",
    "papermill": {
     "duration": 0.016131,
     "end_time": "2023-06-28T09:30:45.112120",
     "exception": false,
     "start_time": "2023-06-28T09:30:45.095989",
     "status": "completed"
    },
    "tags": []
   },
   "source": [
    "<div style=\"background-color:#F0E3D2; color:#19180F; font-size:15px; font-family:Verdana; padding:10px; border: 2px solid #19180F; border-radius:10px\">\n",
    "📌 Creating submission file </div>"
   ]
  },
  {
   "cell_type": "code",
   "execution_count": null,
   "id": "181b5177",
   "metadata": {
    "id": "181b5177",
    "papermill": {
     "duration": 0.49035,
     "end_time": "2023-06-28T09:30:45.618790",
     "exception": false,
     "start_time": "2023-06-28T09:30:45.128440",
     "status": "completed"
    },
    "tags": []
   },
   "outputs": [],
   "source": [
    "submission = pd.DataFrame({'ID': test_data['ID'], 'item_cnt_month': predicted_sales})\n",
    "submission.to_csv('submission.csv', index=False)"
   ]
  },
  {
   "cell_type": "code",
   "execution_count": null,
   "id": "5c888093",
   "metadata": {
    "id": "5c888093",
    "outputId": "c314e5f5-951f-4cc7-a14e-c96ba544c6cc",
    "papermill": {
     "duration": 0.04489,
     "end_time": "2023-06-28T09:30:45.680142",
     "exception": false,
     "start_time": "2023-06-28T09:30:45.635252",
     "status": "completed"
    },
    "tags": []
   },
   "outputs": [],
   "source": [
    "submission"
   ]
  },
  {
   "cell_type": "code",
   "execution_count": null,
   "id": "e4d2c983",
   "metadata": {
    "id": "e4d2c983"
   },
   "outputs": [],
   "source": []
  },
  {
   "cell_type": "code",
   "execution_count": null,
   "id": "00563dd2",
   "metadata": {
    "id": "00563dd2"
   },
   "outputs": [],
   "source": []
  }
 ],
 "metadata": {
  "colab": {
   "provenance": []
  },
  "kernelspec": {
   "display_name": "Python 3 (ipykernel)",
   "language": "python",
   "name": "python3"
  },
  "language_info": {
   "codemirror_mode": {
    "name": "ipython",
    "version": 3
   },
   "file_extension": ".py",
   "mimetype": "text/x-python",
   "name": "python",
   "nbconvert_exporter": "python",
   "pygments_lexer": "ipython3",
   "version": "3.12.2"
  },
  "papermill": {
   "default_parameters": {},
   "duration": 684.704244,
   "end_time": "2023-06-28T09:30:46.855852",
   "environment_variables": {},
   "exception": null,
   "input_path": "__notebook__.ipynb",
   "output_path": "__notebook__.ipynb",
   "parameters": {},
   "start_time": "2023-06-28T09:19:22.151608",
   "version": "2.4.0"
  }
 },
 "nbformat": 4,
 "nbformat_minor": 5
}
